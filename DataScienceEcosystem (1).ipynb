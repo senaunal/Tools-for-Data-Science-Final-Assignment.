{
 "cells": [
  {
   "cell_type": "markdown",
   "metadata": {},
   "source": [
    "# Data Science Tools and Ecosystem"
   ]
  },
  {
   "cell_type": "markdown",
   "metadata": {},
   "source": [
    "In this notebook, Data Science Tools and Ecosystem are summarized."
   ]
  },
  {
   "cell_type": "markdown",
   "metadata": {},
   "source": [
    "Some of the popular languages that Data Scientists use are:"
   ]
  },
  {
   "cell_type": "markdown",
   "metadata": {},
   "source": [
    "1. Python\n",
    "2. R\n",
    "3. SQL\n",
    "4. Julia\n",
    "5. Java"
   ]
  },
  {
   "cell_type": "markdown",
   "metadata": {},
   "source": [
    "Some of the commonly used libraries used by Data Scientists include:"
   ]
  },
  {
   "cell_type": "markdown",
   "metadata": {},
   "source": [
    "1. Pandas (Python)\n",
    "2. NumPy (Python): Used for numerical computations, with support for multi-dimensional arrays and matrices.\n",
    "3. Dplyr (R): Part of the Tidyverse collection in R, this package is essential for data manipulation and transformation tasks.\n",
    "4. Data.table (R): Provides fast and memory-efficient data manipulation, especially for large datasets.\n",
    "5. Matplotlib (Python): A fundamental library for creating static, interactive, and animated visualizations in Python.\n",
    "6. Seaborn (Python): Built on Matplotlib, it provides a high-level interface for drawing attractive and informative statistical graphics.\n",
    "7. ggplot2 (R): Part of the Tidyverse, ggplot2 is widely used for creating complex visualizations and is highly customizable.\n",
    "8. Plotly (Python/R): A library for creating interactive visualizations, often used for dashboards and web applications.\n",
    "9. Scikit-Learn (Python): A comprehensive library for machine learning, offering tools for supervised and unsupervised learning, model selection, and preprocessing.\n",
    "10. TensorFlow (Python): An open-source library developed by Google for deep learning, offering flexibility and performance for complex models.\n",
    "11. Keras (Python): Built on TensorFlow, Keras is known for its user-friendly API, making it easier to build and train neural networks.\n",
    "12. PyTorch (Python): Developed by Facebook, PyTorch is favored for research due to its dynamic computation graph, which allows for more flexible model building."
   ]
  },
  {
   "cell_type": "markdown",
   "metadata": {},
   "source": [
    "| Data Science Tools       |\n",
    "|--------------------------|\n",
    "| Jupyter Notebooks        |\n",
    "| RStudio                  |\n",
    "| Apache Zeppelin          |"
   ]
  },
  {
   "cell_type": "markdown",
   "metadata": {},
   "source": [
    "### Below are a few examples of evaluating arithmetic expressions in Python"
   ]
  },
  {
   "cell_type": "code",
   "execution_count": 2,
   "metadata": {},
   "outputs": [
    {
     "data": {
      "text/plain": [
       "17"
      ]
     },
     "execution_count": 2,
     "metadata": {},
     "output_type": "execute_result"
    }
   ],
   "source": [
    "# This a simple arithmetic expression to mutiply then add integers.\n",
    "(3 * 4) + 5"
   ]
  },
  {
   "cell_type": "code",
   "execution_count": 3,
   "metadata": {},
   "outputs": [
    {
     "data": {
      "text/plain": [
       "3.3333333333333335"
      ]
     },
     "execution_count": 3,
     "metadata": {},
     "output_type": "execute_result"
    }
   ],
   "source": [
    "# This will convert 200 minutes to hours by dividing by 60\n",
    "200 / 60"
   ]
  },
  {
   "cell_type": "markdown",
   "metadata": {},
   "source": [
    "**Objectives:**\n",
    "- List popular languages for Data Science\n",
    "- Identify key libraries used by Data Scientists\n",
    "- Explore common development environments\n",
    "- Evaluate arithmetic expressions in Python\n"
   ]
  },
  {
   "cell_type": "markdown",
   "metadata": {},
   "source": [
    "## Author\n",
    "Sena Ünal Şimşek\n"
   ]
  },
  {
   "cell_type": "code",
   "execution_count": null,
   "metadata": {},
   "outputs": [],
   "source": []
  }
 ],
 "metadata": {
  "kernelspec": {
   "display_name": "Python 3 (ipykernel)",
   "language": "python",
   "name": "python3"
  },
  "language_info": {
   "codemirror_mode": {
    "name": "ipython",
    "version": 3
   },
   "file_extension": ".py",
   "mimetype": "text/x-python",
   "name": "python",
   "nbconvert_exporter": "python",
   "pygments_lexer": "ipython3",
   "version": "3.9.13"
  }
 },
 "nbformat": 4,
 "nbformat_minor": 4
}
